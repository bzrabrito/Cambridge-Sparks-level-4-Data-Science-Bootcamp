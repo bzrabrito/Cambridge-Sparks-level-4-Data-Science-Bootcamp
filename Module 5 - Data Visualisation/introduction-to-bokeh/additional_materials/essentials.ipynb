{
 "cells": [
  {
   "cell_type": "markdown",
   "metadata": {
    "slideshow": {
     "slide_type": "slide"
    }
   },
   "source": [
    "# Interactive Visualisation: Essentials"
   ]
  },
  {
   "cell_type": "markdown",
   "metadata": {},
   "source": [
    "To create interactive visualisations:\n",
    "    * Process your data before then use pandas bokeh to plot\n",
    "    * Use bokeh models if you need more customisation"
   ]
  },
  {
   "cell_type": "code",
   "execution_count": null,
   "metadata": {},
   "outputs": [],
   "source": [
    "import pandas as pd\n",
    "df = pd.read_csv('data/mpg.csv')"
   ]
  },
  {
   "cell_type": "markdown",
   "metadata": {
    "slideshow": {
     "slide_type": "slide"
    }
   },
   "source": [
    "### pandas-bokeh\n",
    "\n",
    "Make sure you have `pandas-bokeh` installed first."
   ]
  },
  {
   "cell_type": "code",
   "execution_count": null,
   "metadata": {
    "slideshow": {
     "slide_type": "slide"
    }
   },
   "outputs": [],
   "source": [
    "# Tell pandas to use bokeh instead of matplotlib when calling plot\n",
    "pd.set_option('plotting.backend', 'pandas_bokeh')\n",
    "\n",
    "# Tell bokeh to show figures in the notebook\n",
    "from bokeh.plotting import output_notebook\n",
    "output_notebook()\n",
    "\n",
    "# Hiding bokeh's warning messages\n",
    "import warnings\n",
    "warnings.filterwarnings('ignore')"
   ]
  },
  {
   "cell_type": "markdown",
   "metadata": {},
   "source": [
    "We can create a scatter plot as we did with matplotlib. But it is interactive this time."
   ]
  },
  {
   "cell_type": "code",
   "execution_count": null,
   "metadata": {
    "scrolled": true,
    "slideshow": {
     "slide_type": "slide"
    }
   },
   "outputs": [],
   "source": [
    "df.plot(x='weight', y='mpg', kind='scatter', category='origin', alpha=0.6)"
   ]
  },
  {
   "cell_type": "markdown",
   "metadata": {},
   "source": [
    "If we want more customisation, we can save the output to a variable and update the components we want:"
   ]
  },
  {
   "cell_type": "code",
   "execution_count": null,
   "metadata": {
    "slideshow": {
     "slide_type": "slide"
    }
   },
   "outputs": [],
   "source": [
    "fig = df.plot(x='weight', y='mpg', kind='scatter', category='origin', alpha=0.6)\n",
    "\n",
    "fig.title.text = 'Car weight vs fuel efficiency'\n",
    "fig.title.text_font_size = '14pt'\n",
    "fig.xaxis.axis_label, fig.yaxis.axis_label  = ('Weight (kg)', 'Fuel efficiency (mpg)')\n",
    "fig.xaxis.minor_tick_line_width, fig.yaxis.minor_tick_line_width = (0, 0)\n",
    "fig.xaxis.axis_label_text_font_style, fig.yaxis.axis_label_text_font_style = ('bold', 'bold')\n",
    "fig.toolbar_location=None"
   ]
  },
  {
   "cell_type": "markdown",
   "metadata": {
    "slideshow": {
     "slide_type": "slide"
    }
   },
   "source": [
    "#### Fully custom bokeh figures"
   ]
  },
  {
   "cell_type": "code",
   "execution_count": null,
   "metadata": {
    "slideshow": {
     "slide_type": "-"
    }
   },
   "outputs": [],
   "source": [
    "from bokeh.plotting import Figure, show, save\n",
    "from bokeh.models import ColumnDataSource, HoverTool, GroupFilter, CDSView"
   ]
  },
  {
   "cell_type": "markdown",
   "metadata": {},
   "source": [
    "1. Create a figure\n",
    "2. Add components\n",
    "3. Use show to display it when you want"
   ]
  },
  {
   "cell_type": "markdown",
   "metadata": {},
   "source": [
    "Example 1: create a simple figure and scatter plot by passing the columns we want."
   ]
  },
  {
   "cell_type": "code",
   "execution_count": null,
   "metadata": {
    "slideshow": {
     "slide_type": "-"
    }
   },
   "outputs": [],
   "source": [
    "weight_mpg = Figure(width=300, height=300)\n",
    "weight_mpg.scatter(x=df['weight'], y=df['mpg'])\n",
    "\n",
    "show(weight_mpg)"
   ]
  },
  {
   "cell_type": "markdown",
   "metadata": {},
   "source": [
    "Example 2: here we define custom color, tooltips and use a DataSource so we can just tell the name of the column to bokeh"
   ]
  },
  {
   "cell_type": "code",
   "execution_count": null,
   "metadata": {
    "slideshow": {
     "slide_type": "slide"
    }
   },
   "outputs": [],
   "source": [
    "# Create a color column to have different color per point\n",
    "origin_colors = {'usa':'green', 'japan': 'orange', 'europe': 'blue'}\n",
    "df['color'] = df[\"origin\"].map(origin_colors)\n",
    "\n",
    "# Build a ColumnDataSource from our dataset so we can only tell bokeh what columns to use\n",
    "data = ColumnDataSource(df)\n",
    "\n",
    "# Create figures with tooltips we want.\n",
    "# Specify name of tooltip and column to use\n",
    "origin_tt = Figure(tooltips=[('Model', '@name'), ('Country', '@origin')],\n",
    "                   width=400, height=400)\n",
    "\n",
    "# Build our scatter plot on the figure, passing the data object and color\n",
    "origin_tt.scatter(source=data, \n",
    "                  x='horsepower', y='acceleration', \n",
    "                  size=8, \n",
    "                  legend_group='origin', \n",
    "                  fill_color=\"color\")\n",
    "show(origin_tt)"
   ]
  },
  {
   "cell_type": "markdown",
   "metadata": {},
   "source": [
    "We can save our plot as html file"
   ]
  },
  {
   "cell_type": "code",
   "execution_count": null,
   "metadata": {
    "slideshow": {
     "slide_type": "slide"
    }
   },
   "outputs": [],
   "source": [
    "save(origin_tt, filename='data/hp-acc.html', resources='inline', title='Horsepower vs Acceleration');"
   ]
  }
 ],
 "metadata": {
  "kernelspec": {
   "display_name": "Python 3",
   "language": "python",
   "name": "python3"
  },
  "language_info": {
   "codemirror_mode": {
    "name": "ipython",
    "version": 3
   },
   "file_extension": ".py",
   "mimetype": "text/x-python",
   "name": "python",
   "nbconvert_exporter": "python",
   "pygments_lexer": "ipython3",
   "version": "3.7.7"
  }
 },
 "nbformat": 4,
 "nbformat_minor": 4
}
